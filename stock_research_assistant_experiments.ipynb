{
 "cells": [
  {
   "cell_type": "code",
   "execution_count": 131,
   "id": "d0168aee-bce9-4d60-b827-f86a88187e31",
   "metadata": {
    "height": 183
   },
   "outputs": [],
   "source": [
    "# libraries\n",
    "from dotenv import load_dotenv\n",
    "import os\n",
    "from tavily import TavilyClient\n",
    "\n",
    "# load environment variables from .env file\n",
    "_ = load_dotenv()\n"
   ]
  },
  {
   "cell_type": "markdown",
   "id": "0d83c714",
   "metadata": {},
   "source": [
    "## Importing Libraries"
   ]
  },
  {
   "cell_type": "code",
   "execution_count": 133,
   "id": "61f79eb9-d1c9-44b0-9efd-a8f9b380332a",
   "metadata": {
    "height": 180
   },
   "outputs": [],
   "source": [
    "from langchain_core.messages import SystemMessage, HumanMessage, ToolMessage, AnyMessage\n",
    "from typing import TypedDict, Annotated, List\n",
    "from langchain_core.pydantic_v1 import BaseModel\n",
    "import operator\n",
    "from langgraph.graph import StateGraph, END\n",
    "import feedparser \n",
    "from bs4 import BeautifulSoup\n",
    "import requests\n",
    "import yfinance as yf\n",
    "from langchain.pydantic_v1 import BaseModel, Field\n",
    "from langchain.tools import BaseTool, StructuredTool, tool"
   ]
  },
  {
   "cell_type": "markdown",
   "id": "c32f5809",
   "metadata": {},
   "source": [
    "## Defining the Tools to be used by the Model"
   ]
  },
  {
   "cell_type": "code",
   "execution_count": 136,
   "id": "0b6e9be9",
   "metadata": {
    "height": 81
   },
   "outputs": [],
   "source": [
    "from langchain.tools import DuckDuckGoSearchRun\n",
    "import re\n",
    "\n",
    "search = DuckDuckGoSearchRun()"
   ]
  },
  {
   "cell_type": "code",
   "execution_count": 137,
   "id": "fc709569",
   "metadata": {
    "height": 217
   },
   "outputs": [],
   "source": [
    "@tool\n",
    "def get_company_ticker(company_name : str):\n",
    "    \"\"\"get company's NSI ticker\"\"\"    \n",
    "    n = search.run(f'{company_name} ticker of NSI')\n",
    "    return re.search(r'\\(.*?:NSI\\)', n).group()"
   ]
  },
  {
   "cell_type": "code",
   "execution_count": 138,
   "id": "c5879b49",
   "metadata": {
    "height": 383
   },
   "outputs": [],
   "source": [
    "@tool\n",
    "def get_financial_statement(ticker : str):\n",
    "    \"\"\" get financial statement of the company, using company's ticker\"\"\"\n",
    "    \n",
    "    if \".\" in ticker:\n",
    "        ticker=ticker.split(\".\")[0]\n",
    "    else:\n",
    "        ticker=ticker\n",
    "    ticker=ticker+\".NS\"    \n",
    "    company = yf.Ticker(ticker)\n",
    "    balance_sheet = company.balance_sheet\n",
    "    if balance_sheet.shape[1]>=3:\n",
    "        balance_sheet=balance_sheet.iloc[:,:3]    # Remove 4th years data\n",
    "    balance_sheet=balance_sheet.dropna(how=\"any\")\n",
    "    balance_sheet = balance_sheet.to_string()\n",
    "    return balance_sheet"
   ]
  },
  {
   "cell_type": "code",
   "execution_count": 139,
   "id": "ed7c547f",
   "metadata": {
    "height": 383
   },
   "outputs": [],
   "source": [
    "@tool\n",
    "def get_stock_price(ticker : str):\n",
    "    \"\"\" get stock price of the company, using company's ticker\"\"\"\n",
    "    \n",
    "    history=5\n",
    "    if \".\" in ticker:\n",
    "        ticker=ticker.split(\".\")[0]\n",
    "    ticker=ticker+\".NS\"\n",
    "    stock = yf.Ticker(ticker)\n",
    "    df = stock.history(period=\"1y\")\n",
    "    df=df[[\"Close\",\"Volume\"]]\n",
    "    df.index=[str(x).split()[0] for x in list(df.index)]\n",
    "    df.index.rename(\"Date\",inplace=True)\n",
    "    df=df[-history:]\n",
    "    return df.to_string()"
   ]
  },
  {
   "cell_type": "code",
   "execution_count": 140,
   "id": "7f41803a",
   "metadata": {
    "height": 672
   },
   "outputs": [],
   "source": [
    "@tool\n",
    "def get_company_headlines(company_name):\n",
    "    \"\"\" get news headlines of the company, using company's name\"\"\"\n",
    "                \n",
    "    company_name = '+'.join(company_name.split(' '))\n",
    "    google_news_url = f'https://news.google.com/rss/search?q={company_name}+ticker+stock+news+india&hl=en-US&gl=US&ceid=US:en'\n",
    "    feed = feedparser.parse(google_news_url)\n",
    "\n",
    "    news_entries = []\n",
    "    for entry in feed['entries'][:6]:\n",
    "        news_entries.append(entry['published'] +' '+ entry['title'])\n",
    "    \n",
    "    return news_entries"
   ]
  },
  {
   "cell_type": "code",
   "execution_count": 141,
   "id": "6dc93c7d",
   "metadata": {
    "height": 47
   },
   "outputs": [],
   "source": [
    "from langchain.tools import DuckDuckGoSearchRun\n",
    "search = DuckDuckGoSearchRun()"
   ]
  },
  {
   "cell_type": "code",
   "execution_count": 142,
   "id": "351a4b82",
   "metadata": {
    "height": 318
   },
   "outputs": [],
   "source": [
    "class Headlines(BaseModel):\n",
    "    headlines: List[str]\n",
    "\n",
    "\n",
    "class AgentState(TypedDict):\n",
    "\n",
    "    company_ticker_messages: Annotated[list[AnyMessage], operator.add]\n",
    "    stock_information_messages: Annotated[list[AnyMessage], operator.add]\n",
    "    stock_headlines_messages: Annotated[list[AnyMessage], operator.add]\n",
    "    stock_news_messages: Annotated[list[AnyMessage], operator.add]\n",
    "    stock_analyser_messages: Annotated[list[AnyMessage], operator.add]\n",
    "\n",
    "    user_input: str\n",
    "    ticker :str\n",
    "    content: str\n",
    "    headlines: List[str]\n",
    "    response: str\n"
   ]
  },
  {
   "cell_type": "markdown",
   "id": "9ad769a2",
   "metadata": {},
   "source": [
    "## Defining the Agent"
   ]
  },
  {
   "cell_type": "code",
   "execution_count": 143,
   "id": "5ee92c58",
   "metadata": {
    "height": 3407
   },
   "outputs": [],
   "source": [
    "class Agent:\n",
    "\n",
    "    def __init__(self, model, tools):\n",
    "\n",
    "        graph = StateGraph(AgentState)\n",
    "\n",
    "        graph.add_node(\"extract_company_ticker\", self.extract_company_ticker)\n",
    "        graph.add_node(\"get_stock_information\", self.get_stock_information)\n",
    "        graph.add_node(\"get_stock_headlines\", self.get_stock_headlines)\n",
    "        graph.add_node(\"get_stock_news\", self.get_stock_news)\n",
    "        graph.add_node(\"stock_analyser\", self.stock_analyser)\n",
    "\n",
    "\n",
    "        graph.add_node(\"take_action_to_find_ticker\", self.take_action_to_find_ticker)\n",
    "        graph.add_node(\"take_action_to_find_stock_information\", self.take_action_to_find_stock_information)\n",
    "        graph.add_node(\"take_action_to_find_stock_headline\", self.take_action_to_find_stock_headline)\n",
    "        \n",
    "\n",
    "        graph.add_conditional_edges(\n",
    "            \"extract_company_ticker\",\n",
    "            self.action_exist_for_company_ticker,\n",
    "            {True: \"take_action_to_find_ticker\", False: \"get_stock_information\"}\n",
    "        )\n",
    "\n",
    "        graph.add_edge(\"take_action_to_find_ticker\", \"extract_company_ticker\")\n",
    "\n",
    "        graph.add_conditional_edges(\n",
    "            \"get_stock_information\",\n",
    "            self.action_exist_for_stock_information,\n",
    "            {True: \"take_action_to_find_stock_information\", False: \"get_stock_headlines\"}\n",
    "        )\n",
    "\n",
    "        graph.add_edge(\"take_action_to_find_stock_information\", \"get_stock_information\")\n",
    "\n",
    "\n",
    "        graph.add_conditional_edges(\n",
    "            \"get_stock_headlines\",\n",
    "            self.action_exist_for_stock_headline,\n",
    "            {True: \"take_action_to_find_stock_headline\", False: \"get_stock_news\"}\n",
    "        )\n",
    "\n",
    "        graph.add_edge(\"take_action_to_find_stock_headline\", \"get_stock_headlines\")\n",
    "\n",
    "        graph.add_edge(\"get_stock_news\", \"stock_analyser\")\n",
    "\n",
    "        graph.add_edge(\"stock_analyser\", END)\n",
    "        \n",
    "        graph.set_entry_point(\"extract_company_ticker\")\n",
    "        \n",
    "        self.graph = graph.compile()\n",
    "        self.tools = {t.name: t for t in tools}\n",
    "        self.model = model.bind_tools(tools)\n",
    "        self.search = DuckDuckGoSearchRun()\n",
    "\n",
    "    def extract_company_ticker(self, state: AgentState):\n",
    "\n",
    "        TICKER_IDENTIFIER_PROMPT = '''\n",
    "        From the user query, first identify the company name. Then pass the company name to get_company_ticker function.\n",
    "        From the response of function, identify the company ticker, and only return the ticker. You should not answer the user query.\n",
    "        For example, if the company identified is State Bank of India, the final expected output should be \"SBIN\"\n",
    "        '''\n",
    "        \n",
    "        messages = state.get('company_ticker_messages')\n",
    "        \n",
    "        messages = [SystemMessage(content=TICKER_IDENTIFIER_PROMPT), HumanMessage(content=state['user_input'])] + messages\n",
    "        response = self.model.invoke(messages)\n",
    "\n",
    "        return {'company_ticker_messages': [response]}\n",
    "    \n",
    "    def get_stock_information(self, state: AgentState):\n",
    "\n",
    "        GET_STOCK_INFORMATION_PROMPT = '''\n",
    "        For the given ticker, use get_stock_price function to get the stock price and \n",
    "        then use the get_financial_statement function to get the financial statement and return the result after combining both'''\n",
    "\n",
    "        messages = state.get('stock_information_messages')\n",
    "        \n",
    "        ticker = state.get('company_ticker_messages')[-1].content\n",
    "\n",
    "        messages = [SystemMessage(content=GET_STOCK_INFORMATION_PROMPT), HumanMessage(content=ticker)] + messages\n",
    "        reponse = self.model.invoke(messages) \n",
    "\n",
    "        return {'stock_information_messages': [reponse]}\n",
    "    \n",
    "    def get_stock_headlines(self, state: AgentState):\n",
    "\n",
    "        GET_STOCK_HEADLINE_PROMPT = '''From the given user query, identify the company name and use get_company_headlines function to get the latest company news.\n",
    "        Then, from all the headlines, identify the most relevant headlines which are related to company's stocks \n",
    "        (like increase or decrease in profit) or other news which depict the growth or decline of the company \n",
    "        (it could be about their new projects, awards, new deals won or loss of deal).\n",
    "        Neglect the headlines which is ambiguous. Finally pick 4 maximum Headlines.\n",
    "        '''\n",
    "        messages = state.get('stock_headlines_messages')\n",
    "        \n",
    "        messages = [SystemMessage(content=GET_STOCK_HEADLINE_PROMPT), HumanMessage(content=state['user_input'])] + messages\n",
    "        \n",
    "        headlines_structured = self.model.with_structured_output(Headlines).invoke(messages)\n",
    "        headlines_raw = self.model.invoke(messages)\n",
    "        \n",
    "\n",
    "        return {'headlines': headlines_structured, 'stock_headlines_messages': [headlines_raw]}\n",
    "\n",
    "    def get_stock_news(self, state: AgentState):\n",
    "\n",
    "        headlines = state.get('headlines') or []\n",
    "        existing_content = '\\nHere are some latest headlines about the stock\\n\\n'\n",
    "\n",
    "        for headline in headlines.headlines:\n",
    "            print(headline) ## added for debugging purpose\n",
    "        \n",
    "        return {'content': existing_content}\n",
    "    \n",
    "    def stock_analyser(self, state: AgentState):\n",
    "\n",
    "        STOCK_ANALYSER_PROMPT = '''You are an stock market expert. Based on the Financial Data and NEWS about the company below, \n",
    "        answer the user query. Utilize all the information below as needed. Make sure to do thorough analysis before answering: \n",
    "        {content}'''\n",
    "\n",
    "        content = state.get('content') or ''\n",
    "\n",
    "        stock_information = 'Here is the Stock information of the company = \\n' + state.get('stock_information_messages')[-1].content +'\\n'+content\n",
    "        \n",
    "        print('&&&&&&&&&&&&&&&&&',stock_information,'&&&&&&&&&&&&&') ## added for debugging purpose\n",
    "        \n",
    "        response = self.model.invoke([SystemMessage(content=STOCK_ANALYSER_PROMPT.format(content = stock_information)),\n",
    "        HumanMessage(content=state['user_input'])])\n",
    "        print(response)\n",
    "    \n",
    "        return {\"response\": [response]}\n",
    "    \n",
    "\n",
    "    def take_action_to_find_ticker(self, state: AgentState):\n",
    "        tool_calls = state['company_ticker_messages'][-1].tool_calls\n",
    "        results = []\n",
    "        for t in tool_calls:\n",
    "            print(f\"Calling: {t}\")\n",
    "            if not t['name'] in self.tools:      # check for bad tool name from LLM\n",
    "                print(\"\\n ....bad tool name....\")\n",
    "                result = \"bad tool name, retry\"  # instruct LLM to retry if bad\n",
    "            else:\n",
    "                result = self.tools[t['name']].invoke(t['args'])\n",
    "            results.append(ToolMessage(tool_call_id=t['id'], name=t['name'], content=str(result)))\n",
    "        print(\"Back to the Model\")\n",
    "        return {'company_ticker_messages': results}\n",
    "    \n",
    "    def take_action_to_find_stock_information(self, state: AgentState):\n",
    "        tool_calls = state['stock_information_messages'][-1].tool_calls\n",
    "        results = []\n",
    "        for t in tool_calls:\n",
    "            print(f\"Calling: {t}\")\n",
    "            if not t['name'] in self.tools:      # check for bad tool name from LLM\n",
    "                print(\"\\n ....bad tool name....\")\n",
    "                result = \"bad tool name, retry\"  # instruct LLM to retry if bad\n",
    "            else:\n",
    "                result = self.tools[t['name']].invoke(t['args'])\n",
    "            results.append(ToolMessage(tool_call_id=t['id'], name=t['name'], content=str(result)))\n",
    "        print(\"Back to the Model!\")\n",
    "        return {'stock_information_messages': results}\n",
    "    \n",
    "\n",
    "    def take_action_to_find_stock_headline(self, state: AgentState):\n",
    "        tool_calls = state['stock_headlines_messages'][-1].tool_calls\n",
    "        results = []\n",
    "        for t in tool_calls:\n",
    "            print(f\"Calling: {t}\")\n",
    "            if not t['name'] in self.tools:      # check for bad tool name from LLM\n",
    "                print(\"\\n ....bad tool name....\")\n",
    "                result = \"bad tool name, retry\"  # instruct LLM to retry if bad\n",
    "            else:\n",
    "                result = self.tools[t['name']].invoke(t['args'])\n",
    "            results.append(ToolMessage(tool_call_id=t['id'], name=t['name'], content=str(result)))\n",
    "        print(\"Back to the Model!\")\n",
    "        return {'stock_headlines_messages': results}\n",
    "    \n",
    "    def action_exist_for_company_ticker(self, state: AgentState):\n",
    "        result = state['company_ticker_messages'][-1]\n",
    "        return len(result.tool_calls) > 0\n",
    "    def action_exist_for_stock_information(self, state: AgentState):\n",
    "        result = state['stock_information_messages'][-1]\n",
    "        return len(result.tool_calls) > 0\n",
    "    \n",
    "    def action_exist_for_stock_headline(self, state: AgentState):\n",
    "        result = state['stock_headlines_messages'][-1]\n",
    "        return len(result.tool_calls) > 0\n",
    "    "
   ]
  },
  {
   "cell_type": "code",
   "execution_count": 144,
   "id": "f0002fec",
   "metadata": {
    "height": 30
   },
   "outputs": [],
   "source": [
    "from langchain_openai import ChatOpenAI"
   ]
  },
  {
   "cell_type": "markdown",
   "id": "3e42899a",
   "metadata": {},
   "source": [
    "## Intialising the Agentic Model"
   ]
  },
  {
   "cell_type": "code",
   "execution_count": 145,
   "id": "be91c6a2",
   "metadata": {
    "height": 112
   },
   "outputs": [],
   "source": [
    "model = ChatOpenAI(model=\"gpt-4o\")  \n",
    "\n",
    "tools = [get_company_ticker, get_financial_statement, get_stock_price, get_company_headlines]\n",
    "\n",
    "abot = Agent(model, tools)"
   ]
  },
  {
   "cell_type": "markdown",
   "id": "a1f556f8",
   "metadata": {},
   "source": [
    "## Invoking the Agentic Model with user query"
   ]
  },
  {
   "cell_type": "code",
   "execution_count": 146,
   "id": "9c4e2d5f",
   "metadata": {
    "height": 47
   },
   "outputs": [
    {
     "name": "stdout",
     "output_type": "stream",
     "text": [
      "Calling: {'name': 'get_company_ticker', 'args': {'company_name': 'Yes Bank'}, 'id': 'call_0YO4LPqDm4nl1cdPoBEpfOWE'}\n",
      "Back to the Model\n",
      "Calling: {'name': 'get_company_ticker', 'args': {'company_name': 'YESBANK'}, 'id': 'call_pQEfSwXFeqNim0zb8VMdpVeB'}\n",
      "Back to the Model!\n",
      "Calling: {'name': 'get_stock_price', 'args': {'ticker': 'YESBANK'}, 'id': 'call_BFKRe8EApHRnie6scMntGKXV'}\n",
      "Calling: {'name': 'get_financial_statement', 'args': {'ticker': 'YESBANK'}, 'id': 'call_TMjmoACQhvtmN6erGChtLjyM'}\n",
      "Back to the Model!\n",
      "Calling: {'name': 'get_company_headlines', 'args': {'company_name': 'Yes Bank'}, 'id': 'call_cWDSW4fQXbz6DjmCMV618beu'}\n",
      "Back to the Model!\n",
      "Fri, 02 Aug 2024 10:21:55 GMT Yes Bank Share Price Highlights : Yes Bank closed today at ₹25.45, down -3.12% from yesterday's ₹26.27 - Mint\n",
      "Thu, 01 Aug 2024 14:34:51 GMT Yes Bank Share Price Highlights : Yes Bank closed today at ₹26.27, down -0.87% from yesterday's ₹26.5 - Mint\n",
      "Wed, 10 Jul 2024 07:00:00 GMT Yes Bank’s $5 Billion Stake Said to Attract Lenders From the Middle East, Japan - Bloomberg\n",
      "Tue, 30 Jul 2024 12:10:47 GMT YES Bank shares climbed 4% today; will this upward move sustain? - Business Today\n",
      "&&&&&&&&&&&&&&&&& Here is the Stock information of the company = \n",
      "### YESBANK Stock Price\n",
      "\n",
      "#### Recent Stock Prices:\n",
      "| Date       | Close  | Volume     |\n",
      "|------------|--------|------------|\n",
      "| 2024-07-29 | 24.95  | 183,181,556|\n",
      "| 2024-07-30 | 25.71  | 275,043,147|\n",
      "| 2024-07-31 | 26.51  | 653,115,416|\n",
      "| 2024-08-01 | 26.28  | 252,509,224|\n",
      "| 2024-08-02 | 25.45  | 210,174,985|\n",
      "\n",
      "### YESBANK Financial Statement\n",
      "\n",
      "#### Financial Data (in thousands of currency units):\n",
      "\n",
      "| Description                                | 2024-03-31      | 2023-03-31      | 2022-03-31      |\n",
      "|--------------------------------------------|-----------------|-----------------|-----------------|\n",
      "| Ordinary Shares Number                     | 28,767,882,106  | 28,754,775,334  | 25,054,952,981  |\n",
      "| Share Issued                               | 28,767,882,106  | 28,754,775,334  | 25,054,952,981  |\n",
      "| Net Debt                                   | 611,891,600     | 208,371,492     | 13,285,685      |\n",
      "| Total Debt                                 | 805,076,100     | 710,169,839     | 652,801,826     |\n",
      "| Tangible Book Value                        | 421,551,900     | 407,181,757     | 336,989,686     |\n",
      "| Invested Capital                           | 1,226,628,000   | 1,117,351,596   | 989,791,512     |\n",
      "| Net Tangible Assets                        | 421,551,900     | 407,181,757     | 336,989,686     |\n",
      "| Common Stock Equity                        | 421,551,900     | 407,181,757     | 336,989,686     |\n",
      "| Total Capitalization                       | 1,226,628,000   | 1,117,351,596   | 989,791,512     |\n",
      "| Total Equity Gross Minority Interest       | 421,551,900     | 407,181,757     | 336,989,686     |\n",
      "| Stockholders Equity                        | 421,551,900     | 407,181,757     | 336,989,686     |\n",
      "| Capital Stock                              | 57,535,800      | 57,509,551      | 50,109,906      |\n",
      "| Common Stock                               | 57,535,800      | 57,509,551      | 50,109,906      |\n",
      "| Total Liabilities Net Minority Interest    | 3,642,063,600   | 3,144,859,584   | 2,848,787,667   |\n",
      "| Long Term Debt And Capital Lease Obligation| 805,076,100     | 710,169,839     | 652,801,826     |\n",
      "| Total Assets                               | 4,063,615,500   | 3,552,041,341   | 3,185,777,353   |\n",
      "| Investments And Advances                   | 899,969,500     | 830,394,574     | 567,924,657     |\n",
      "| Investment in Financial Assets             | 899,969,500     | 830,394,574     | 567,924,657     |\n",
      "| Net PPE                                    | 28,657,400      | 24,514,813      | 21,410,068      |\n",
      "| Cash And Cash Equivalents                  | 193,184,500     | 501,798,347     | 639,516,141     |\n",
      "| Cash Financial                             | 181,392,400     | 8,891,955       | 7,929,037       |\n",
      "\n",
      "This is the combined result of the stock price and financial statement for YESBANK. If you need further details or analysis, feel free to ask!\n",
      "\n",
      "Here are some latest headlines about the stock\n",
      "\n",
      "Fri, 02 Aug 2024 10:21:55 GMT Yes Bank Share Price Highlights : Yes Bank closed today at ₹25.45, down -3.12% from yesterday's ₹26.27 - Mint\n",
      "No good DuckDuckGo Search Result was found\n",
      "\n",
      "Thu, 01 Aug 2024 14:34:51 GMT Yes Bank Share Price Highlights : Yes Bank closed today at ₹26.27, down -0.87% from yesterday's ₹26.5 - Mint\n",
      "No good DuckDuckGo Search Result was found\n",
      "\n",
      "Wed, 10 Jul 2024 07:00:00 GMT Yes Bank’s $5 Billion Stake Said to Attract Lenders From the Middle East, Japan - Bloomberg\n",
      "July 10, 2024 at 10:43 PM PDT. Listen. 2:19. First Abu Dhabi Bank PJSC is among potential suitors for a roughly $5 billion stake in India's Yes Bank Ltd., according to people with knowledge of ... YESBANK.NS. (Bloomberg) -- First Abu Dhabi Bank PJSC is among potential suitors for a roughly $5 billion stake in India's Yes Bank Ltd., according to people with knowledge of the matter. Most ... ETMarkets.com. First Abu Dhabi Bank PJSC is among potential suitors for a roughly $5 billion stake in India's Yes Bank Ltd., according to people with knowledge of the matter. The Middle Eastern lender is weighing a bid for as much as a 51% stake in YES Bank, the people said, asking not to be identified as the deliberations are private. Yes Bank's $5 billion stake said to attract lenders from the Middle East, Japan Shares jumped as much as 8.5% on Thursday, the biggest intraday gain in almost a week Published: July 11, 2024 13:40 ... YES Bank's $5 billion stake said to attract lenders from the Middle East, Japan First Abu Dhabi Bank is considering bid for Yes Bank stake. The stake sale has also drawn preliminary interest from Japan, including Mitsubishi UFJ Financial Group Inc. and Sumitomo Mitsui Financial Group Inc., although it remains unclear how strong their appetite for a deal is and whether they will proceed, the ...\n",
      "\n",
      "Tue, 30 Jul 2024 12:10:47 GMT YES Bank shares climbed 4% today; will this upward move sustain? - Business Today\n",
      "YES Bank share price: The lender's stock has a price-to-equity (P/E) ratio of 55.39 against a price-to-book (P/B) value of 1.85. Shares of private lender YES Bank Ltd on Tuesday rose 3.57 per cent ... 22 Jul 2024, 11:38AM IST. YES Bank shares surged 5% to Rs 26 on BSE following its report of a standalone net profit of Rs 502.43 crore for Q1 FY2024, marking a 47% increase from Rs 342.52 crore a year ago. Interest earned in the quarter rose 19.8% to Rs 7,719.15 crore from Rs 6,443.22 crore in the same period last year. Shares of YES Bank rose about 2 per cent to Rs 24.30 during Wednesday's trading session. The private lenders was commanding a total market capitalization of more than Rs 76,000 crore. However, the ... Key statistics. As of last trade Yes Bank Ltd (YESBANK:NSI) traded at 25.33, -22.89% below its 52-week high of 32.85, set on Feb 09, 2024. Data delayed at least 15 minutes, as of Jul 29 2024 07:18 BST. All markets data located on FT.com is subject to the FT Terms & Conditions. All content on FT.com is for your general information and use only ... YES Bank's shares surged 9% to Rs 28.50 on BSE after a 123% YoY profit increase to Rs 452 crore. ... 30 Jul 2024: 12.86(1.8%) Vedanta Share Price: 447.2: ... Share Market Live Sensex Nifty Modi Oath Ceremony Live Sensex Today Exit Poll 2024 UltraTech Cement Q4 Results Tata Consumer Q4 results RIL Share Price Q4 results today GSPL Share Price ...\n",
      "\n",
      " &&&&&&&&&&&&&\n",
      "content=\"Investing in any stock requires a thorough analysis of various factors, including recent stock performance, financial health, and future prospects. Let's analyze Yes Bank based on the provided data and recent news:\\n\\n### Recent Stock Performance\\n- **Stock Prices**: The stock price has shown some volatility over the last few days:\\n    - 2024-07-29: ₹24.95\\n    - 2024-07-30: ₹25.71\\n    - 2024-07-31: ₹26.51\\n    - 2024-08-01: ₹26.28\\n    - 2024-08-02: ₹25.45\\n\\n- **Volume**: There has been significant trading volume, especially on 2024-07-31 with 653,115,416 shares traded.\\n\\n### Financial Health\\n- **Net Debt**: The net debt has increased significantly from ₹13,285,685 in 2022 to ₹611,891,600 in 2024.\\n- **Total Assets**: There has been steady growth in total assets from ₹3,185,777,353 in 2022 to ₹4,063,615,500 in 2024.\\n- **Tangible Book Value**: The tangible book value has also shown growth from ₹336,989,686 in 2022 to ₹421,551,900 in 2024.\\n- **Cash and Cash Equivalents**: There has been a decrease in cash and cash equivalents from ₹639,516,141 in 2022 to ₹193,184,500 in 2024, which might be a concern.\\n\\n### Recent News\\n- **Stake Sale Interest**: There's significant interest from Middle Eastern and Japanese lenders in acquiring a $5 billion stake in Yes Bank. This could indicate confidence from large financial institutions in the bank's future prospects.\\n- **Profit Increase**: Yes Bank reported a standalone net profit of ₹502.43 crore for Q1 FY2024, marking a 47% increase from the previous year.\\n\\n### Other Considerations\\n- **Price-to-Earnings (P/E) Ratio**: 55.39\\n- **Price-to-Book (P/B) Value**: 1.85\\n\\n### Analysis\\n1. **Positive Indicators**:\\n    - The interest from large financial institutions in acquiring a stake could provide a significant capital injection and confidence in the bank's future.\\n    - The substantial increase in net profit and overall growth in assets and tangible book value are positive signs of financial health.\\n\\n2. **Negative Indicators**:\\n    - The significant increase in net debt is a concern and should be monitored.\\n    - The decrease in cash and cash equivalents might indicate liquidity issues.\\n\\n### Conclusion\\nBased on the above analysis, Yes Bank shows potential due to its recent profit growth and interest from major financial institutions. However, the increased net debt and reduced cash reserves are concerning factors.\\n\\n**Recommendation**:\\n- **If you are risk-averse**: It might be wise to wait and monitor the bank's performance for a few more quarters, especially in terms of debt management and liquidity.\\n- **If you are willing to take on some risk**: Investing a small portion of your portfolio in Yes Bank could be considered, given its growth potential and the interest from large financial institutions.\\n\\nAlways remember to diversify your investments and consider consulting with a financial advisor before making any investment decisions.\" response_metadata={'token_usage': {'completion_tokens': 697, 'prompt_tokens': 1994, 'total_tokens': 2691}, 'model_name': 'gpt-4o', 'system_fingerprint': 'fp_c832e4513b', 'finish_reason': 'stop', 'logprobs': None} id='run-a4dadbe3-bfb3-4dc7-81f9-63f0068d46cf-0'\n"
     ]
    }
   ],
   "source": [
    "user_query = 'Should I invest in Yes bank?'\n",
    "results = abot.graph.invoke({'user_input':user_query})"
   ]
  },
  {
   "cell_type": "markdown",
   "id": "28cdb741",
   "metadata": {},
   "source": [
    "## Final model results"
   ]
  },
  {
   "cell_type": "code",
   "execution_count": 150,
   "id": "2e13092a",
   "metadata": {
    "height": 47
   },
   "outputs": [
    {
     "name": "stdout",
     "output_type": "stream",
     "text": [
      "company_ticker_messages\n",
      "stock_information_messages\n",
      "stock_headlines_messages\n",
      "stock_news_messages\n",
      "stock_analyser_messages\n",
      "user_input\n",
      "content\n",
      "headlines\n",
      "response\n"
     ]
    }
   ],
   "source": [
    "for i in results:\n",
    "    print(i)"
   ]
  },
  {
   "cell_type": "code",
   "execution_count": 156,
   "id": "3942190a",
   "metadata": {
    "height": 30
   },
   "outputs": [
    {
     "name": "stdout",
     "output_type": "stream",
     "text": [
      "Investing in any stock requires a thorough analysis of various factors, including recent stock performance, financial health, and future prospects. Let's analyze Yes Bank based on the provided data and recent news:\n",
      "\n",
      "### Recent Stock Performance\n",
      "- **Stock Prices**: The stock price has shown some volatility over the last few days:\n",
      "    - 2024-07-29: ₹24.95\n",
      "    - 2024-07-30: ₹25.71\n",
      "    - 2024-07-31: ₹26.51\n",
      "    - 2024-08-01: ₹26.28\n",
      "    - 2024-08-02: ₹25.45\n",
      "\n",
      "- **Volume**: There has been significant trading volume, especially on 2024-07-31 with 653,115,416 shares traded.\n",
      "\n",
      "### Financial Health\n",
      "- **Net Debt**: The net debt has increased significantly from ₹13,285,685 in 2022 to ₹611,891,600 in 2024.\n",
      "- **Total Assets**: There has been steady growth in total assets from ₹3,185,777,353 in 2022 to ₹4,063,615,500 in 2024.\n",
      "- **Tangible Book Value**: The tangible book value has also shown growth from ₹336,989,686 in 2022 to ₹421,551,900 in 2024.\n",
      "- **Cash and Cash Equivalents**: There has been a decrease in cash and cash equivalents from ₹639,516,141 in 2022 to ₹193,184,500 in 2024, which might be a concern.\n",
      "\n",
      "### Recent News\n",
      "- **Stake Sale Interest**: There's significant interest from Middle Eastern and Japanese lenders in acquiring a $5 billion stake in Yes Bank. This could indicate confidence from large financial institutions in the bank's future prospects.\n",
      "- **Profit Increase**: Yes Bank reported a standalone net profit of ₹502.43 crore for Q1 FY2024, marking a 47% increase from the previous year.\n",
      "\n",
      "### Other Considerations\n",
      "- **Price-to-Earnings (P/E) Ratio**: 55.39\n",
      "- **Price-to-Book (P/B) Value**: 1.85\n",
      "\n",
      "### Analysis\n",
      "1. **Positive Indicators**:\n",
      "    - The interest from large financial institutions in acquiring a stake could provide a significant capital injection and confidence in the bank's future.\n",
      "    - The substantial increase in net profit and overall growth in assets and tangible book value are positive signs of financial health.\n",
      "\n",
      "2. **Negative Indicators**:\n",
      "    - The significant increase in net debt is a concern and should be monitored.\n",
      "    - The decrease in cash and cash equivalents might indicate liquidity issues.\n",
      "\n",
      "### Conclusion\n",
      "Based on the above analysis, Yes Bank shows potential due to its recent profit growth and interest from major financial institutions. However, the increased net debt and reduced cash reserves are concerning factors.\n",
      "\n",
      "**Recommendation**:\n",
      "- **If you are risk-averse**: It might be wise to wait and monitor the bank's performance for a few more quarters, especially in terms of debt management and liquidity.\n",
      "- **If you are willing to take on some risk**: Investing a small portion of your portfolio in Yes Bank could be considered, given its growth potential and the interest from large financial institutions.\n",
      "\n",
      "Always remember to diversify your investments and consider consulting with a financial advisor before making any investment decisions.\n"
     ]
    }
   ],
   "source": [
    "print(results['response'][-1].content)"
   ]
  },
  {
   "cell_type": "code",
   "execution_count": null,
   "id": "9f50cd20",
   "metadata": {
    "height": 64
   },
   "outputs": [],
   "source": [
    "from IPython.display import Image\n",
    "\n",
    "Image(abot.graph.get_graph().draw_png())"
   ]
  },
  {
   "cell_type": "code",
   "execution_count": null,
   "id": "0ce22bd5",
   "metadata": {
    "height": 30
   },
   "outputs": [],
   "source": []
  },
  {
   "cell_type": "code",
   "execution_count": null,
   "id": "b210d9af",
   "metadata": {
    "height": 30
   },
   "outputs": [],
   "source": []
  },
  {
   "cell_type": "code",
   "execution_count": null,
   "id": "d508d408",
   "metadata": {
    "height": 30
   },
   "outputs": [],
   "source": []
  },
  {
   "cell_type": "code",
   "execution_count": null,
   "id": "8e130b2f",
   "metadata": {
    "height": 30
   },
   "outputs": [],
   "source": []
  },
  {
   "cell_type": "code",
   "execution_count": null,
   "id": "7a62086a",
   "metadata": {
    "height": 30
   },
   "outputs": [],
   "source": []
  },
  {
   "cell_type": "code",
   "execution_count": null,
   "id": "a94cd97e",
   "metadata": {
    "height": 30
   },
   "outputs": [],
   "source": []
  },
  {
   "cell_type": "code",
   "execution_count": null,
   "id": "57286887",
   "metadata": {
    "height": 30
   },
   "outputs": [],
   "source": []
  },
  {
   "cell_type": "code",
   "execution_count": null,
   "id": "5bf3e535",
   "metadata": {
    "height": 30
   },
   "outputs": [],
   "source": []
  }
 ],
 "metadata": {
  "kernelspec": {
   "display_name": "Python 3 (ipykernel)",
   "language": "python",
   "name": "python3"
  },
  "language_info": {
   "codemirror_mode": {
    "name": "ipython",
    "version": 3
   },
   "file_extension": ".py",
   "mimetype": "text/x-python",
   "name": "python",
   "nbconvert_exporter": "python",
   "pygments_lexer": "ipython3",
   "version": "3.11.9"
  }
 },
 "nbformat": 4,
 "nbformat_minor": 5
}
